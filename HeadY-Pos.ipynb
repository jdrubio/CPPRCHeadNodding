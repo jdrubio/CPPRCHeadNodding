{
 "cells": [
  {
   "cell_type": "code",
   "execution_count": 30,
   "metadata": {},
   "outputs": [
    {
     "name": "stdout",
     "output_type": "stream",
     "text": [
      "OpenCV-Python Version 3.4.2\n"
     ]
    }
   ],
   "source": [
    "import numpy as np\n",
    "import cv2 # OpenCV-Python\n",
    "import os\n",
    "%matplotlib inline\n",
    "import matplotlib\n",
    "import matplotlib.pyplot as plt\n",
    "\n",
    "\n",
    "print(\"OpenCV-Python Version %s\" % cv2.__version__)"
   ]
  },
  {
   "cell_type": "code",
   "execution_count": 31,
   "metadata": {},
   "outputs": [],
   "source": [
    "def distance(x,y):\n",
    "    import math\n",
    "    return math.sqrt((x[0]-y[0])**2+(x[1]-y[1])**2)\n",
    "\n",
    "cap = cv2.VideoCapture(0)\n",
    "if not cap.isOpened():\n",
    "    cap.open()\n",
    "    exit()\n",
    "fourcc = cv2.VideoWriter_fourcc(*'MPG4')\n",
    "out = cv2.VideoWriter(\"G://School/Robotics Files/Video Capture/output1.mp4\",fourcc, 30.0, (640,480),isColor=False)\n",
    "face_cascade = cv2.CascadeClassifier(\"G://School/Robotics Files/OpenCV_Workshop-master/opencv-tutorial-master/detect/haarcascade_frontalface_alt.xml\")"
   ]
  },
  {
   "cell_type": "code",
   "execution_count": 32,
   "metadata": {},
   "outputs": [],
   "source": [
    "#params for ShiTomasi corner detection\n",
    "feature_params = dict( maxCorners = 100,\n",
    "                        qualityLevel = 0.3,\n",
    "                        minDistance = 7,\n",
    "                        blockSize = 7 )\n",
    "\n",
    "# Parameters for lucas kanade optical flow\n",
    "lk_params = dict( winSize  = (15,15),\n",
    "                  maxLevel = 2,\n",
    "                  criteria = (cv2.TERM_CRITERIA_EPS | cv2.TERM_CRITERIA_COUNT, 10, 0.03))\n",
    "\n",
    "#function to get coordinates\n",
    "def get_coords(p1):\n",
    "    try: return int(p1[0][0][0]), int(p1[0][0][1])\n",
    "    except: return int(p1[0][0]), int(p1[0][1])\n",
    "\n",
    "#define font and text color\n",
    "font = cv2.FONT_HERSHEY_SIMPLEX\n",
    "\n",
    "#define movement threshodls\n",
    "max_head_movement = 20\n",
    "movement_threshold = 50\n",
    "gesture_threshold = 175"
   ]
  },
  {
   "cell_type": "code",
   "execution_count": 33,
   "metadata": {},
   "outputs": [],
   "source": [
    "#find the face in the image\n",
    "face_found = False\n",
    "frame_num = 0\n",
    "\n",
    "while frame_num < 30:\n",
    "    # Take first frame and find corners in it\n",
    "    frame_num += 1\n",
    "    ret, frame = cap.read()\n",
    "    frame_gray = cv2.cvtColor(frame, cv2.COLOR_BGR2GRAY)\n",
    "    faces = face_cascade.detectMultiScale(frame_gray, 1.3, 5)\n",
    "    for (x,y,w,h) in faces:\n",
    "        cv2.rectangle(frame,(x,y),(x+w,y+h),(255,0,0),2)\n",
    "        face_found = True\n",
    "    cv2.imshow('image',frame)\n",
    "    out.write(frame)\n",
    "    cv2.waitKey(1)\n",
    "face_center = x+w/2, y+h/3\n",
    "p0 = np.array([[face_center]], np.float32)\n",
    "\n",
    "gesture = False\n",
    "x_movement = 0\n",
    "y_movement = 0\n",
    "y_pos = 0\n",
    "gesture_show = 60 #number of frames a gesture is shown"
   ]
  },
  {
   "cell_type": "code",
   "execution_count": 34,
   "metadata": {},
   "outputs": [],
   "source": [
    "while True:    \n",
    "    ret,frame = cap.read()\n",
    "    old_gray = frame_gray.copy()\n",
    "    frame_gray = cv2.cvtColor(frame, cv2.COLOR_BGR2GRAY)\n",
    "    p1, st, err = cv2.calcOpticalFlowPyrLK(old_gray, frame_gray, p0, None, **lk_params)\n",
    "    cv2.circle(frame, get_coords(p1), 4, (0,0,255), -1)\n",
    "    cv2.circle(frame, get_coords(p0), 4, (255,0,0))\n",
    "    \n",
    "    #get the xy coordinates for points p0 and p1\n",
    "    a,b = get_coords(p0), get_coords(p1)\n",
    "    x_movement += abs(a[0]-b[0])\n",
    "    y_movement += abs(a[1]-b[1])\n",
    "    y = get_coords(p1)\n",
    "    y_pos += a[1]-y[1]\n",
    "    \n",
    "    text = 'x_movement: ' + str(x_movement)\n",
    "   # if not gesture: cv2.putText(frame,text,(50,50), font, 0.8,(0,0,255),2)\n",
    "    text = 'y_movement: ' + str(y_movement)\n",
    "  #  if not gesture: cv2.putText(frame,text,(50,100), font, 0.8,(0,0,255),2)\n",
    "\n",
    "    if x_movement > gesture_threshold:\n",
    "        gesture = 'No'\n",
    "    if y_movement > gesture_threshold:\n",
    "        gesture = 'Yes'\n",
    "    if gesture and gesture_show > 0:\n",
    "   #     cv2.putText(frame,'Gesture Detected: ' + gesture,(50,50), font, 1.2,(0,0,255),3)\n",
    "        gesture_show -=1\n",
    "    if gesture_show == 0:\n",
    "        gesture = False\n",
    "        x_movement = 0\n",
    "        y_movement = 0\n",
    "        gesture_show = 60 #number of frames a gesture is shown\n",
    "        \n",
    "    #print distance(get_coords(p0), get_coords(p1))\n",
    "    p0 = p1\n",
    "    cv2.putText(frame,'Y-Pos: ' + str(y_pos),(50,50), font, 1.2,(0,0,255),3)\n",
    "\n",
    "    cv2.imshow('image',frame)\n",
    "    out.write(frame)\n",
    "    if cv2.waitKey(1) & 0xFF == ord('q'):\n",
    "        cap.release()\n",
    "        out.release()\n",
    "        cv2.destroyAllWindows()\n",
    "        break    "
   ]
  },
  {
   "cell_type": "code",
   "execution_count": null,
   "metadata": {},
   "outputs": [],
   "source": []
  }
 ],
 "metadata": {
  "kernelspec": {
   "display_name": "Python 3",
   "language": "python",
   "name": "python3"
  },
  "language_info": {
   "codemirror_mode": {
    "name": "ipython",
    "version": 3
   },
   "file_extension": ".py",
   "mimetype": "text/x-python",
   "name": "python",
   "nbconvert_exporter": "python",
   "pygments_lexer": "ipython3",
   "version": "3.6.8"
  }
 },
 "nbformat": 4,
 "nbformat_minor": 2
}
